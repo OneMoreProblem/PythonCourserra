{
 "cells": [
  {
   "cell_type": "code",
   "execution_count": 5,
   "id": "ddd8cf32-6305-480a-83c8-f0b694b717ec",
   "metadata": {},
   "outputs": [
    {
     "data": {
      "text/plain": [
       "'{\"data\": 42}'"
      ]
     },
     "execution_count": 5,
     "metadata": {},
     "output_type": "execute_result"
    }
   ],
   "source": [
    "import functools\n",
    "import json\n",
    "\n",
    "\n",
    "def to_json(func):\n",
    "    @functools.wraps(func)\n",
    "    def translator(*args,**kwargs):\n",
    "        return json.dumps(func(*args,**kwargs))\n",
    "    return translator\n",
    "\n",
    "@to_json\n",
    "def get_data():\n",
    "    return {\n",
    "        'data': 42\n",
    "    }\n",
    "  \n",
    "get_data()  # вернёт '{\"data\": 42}'"
   ]
  },
  {
   "cell_type": "code",
   "execution_count": 6,
   "id": "504ae325-d1f3-44f5-8b96-b2e0043a63a1",
   "metadata": {},
   "outputs": [
    {
     "name": "stdout",
     "output_type": "stream",
     "text": [
      "get_data\n"
     ]
    }
   ],
   "source": [
    "print(get_data.__name__)"
   ]
  },
  {
   "cell_type": "code",
   "execution_count": 7,
   "id": "9a22c3e6-ec9b-418f-b9f5-0342f5661490",
   "metadata": {},
   "outputs": [],
   "source": [
    "class Pet:\n",
    "    pass\n",
    "\n",
    "class Cat(pet):\n",
    "    pass"
   ]
  },
  {
   "cell_type": "code",
   "execution_count": 15,
   "id": "5572fe4a-577f-45a4-a117-ed12863c636b",
   "metadata": {},
   "outputs": [
    {
     "data": {
      "text/plain": [
       "False"
      ]
     },
     "execution_count": 15,
     "metadata": {},
     "output_type": "execute_result"
    }
   ],
   "source": [
    "\n",
    "isinstance(Cat(), Pet)"
   ]
  },
  {
   "cell_type": "code",
   "execution_count": 16,
   "id": "9aba1e34-0762-429e-9749-7a3aae6c360f",
   "metadata": {},
   "outputs": [
    {
     "data": {
      "text/plain": [
       "False"
      ]
     },
     "execution_count": 16,
     "metadata": {},
     "output_type": "execute_result"
    }
   ],
   "source": [
    "\n",
    "issubclass(Pet, Cat)"
   ]
  },
  {
   "cell_type": "code",
   "execution_count": 17,
   "id": "43232646-99e4-4e70-b4cb-89fd8a523d7e",
   "metadata": {},
   "outputs": [
    {
     "data": {
      "text/plain": [
       "False"
      ]
     },
     "execution_count": 17,
     "metadata": {},
     "output_type": "execute_result"
    }
   ],
   "source": [
    "issubclass(Cat, Pet)"
   ]
  },
  {
   "cell_type": "code",
   "execution_count": 11,
   "id": "5d1a8b61-2efa-4dda-affb-05927d09ea79",
   "metadata": {},
   "outputs": [
    {
     "data": {
      "text/plain": [
       "False"
      ]
     },
     "execution_count": 11,
     "metadata": {},
     "output_type": "execute_result"
    }
   ],
   "source": [
    "\n",
    "issubclass(Pet, Cat)"
   ]
  },
  {
   "cell_type": "code",
   "execution_count": 12,
   "id": "f287aad2-0d97-4de3-a702-55c338410d45",
   "metadata": {},
   "outputs": [
    {
     "data": {
      "text/plain": [
       "False"
      ]
     },
     "execution_count": 12,
     "metadata": {},
     "output_type": "execute_result"
    }
   ],
   "source": [
    "issubclass(Cat, Pet)"
   ]
  },
  {
   "cell_type": "code",
   "execution_count": null,
   "id": "3450ce5b-4ebb-47a7-ade6-d08884f54f05",
   "metadata": {},
   "outputs": [],
   "source": []
  }
 ],
 "metadata": {
  "kernelspec": {
   "display_name": "Python 3",
   "language": "python",
   "name": "python3"
  },
  "language_info": {
   "codemirror_mode": {
    "name": "ipython",
    "version": 3
   },
   "file_extension": ".py",
   "mimetype": "text/x-python",
   "name": "python",
   "nbconvert_exporter": "python",
   "pygments_lexer": "ipython3",
   "version": "3.6.9"
  }
 },
 "nbformat": 4,
 "nbformat_minor": 5
}
