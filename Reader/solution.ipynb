{
 "cells": [
  {
   "cell_type": "code",
   "execution_count": 1,
   "id": "e8b6cac7-fb05-47b5-818e-3e88a3b9ad3b",
   "metadata": {},
   "outputs": [],
   "source": [
    "from solution import FileReader"
   ]
  },
  {
   "cell_type": "code",
   "execution_count": 2,
   "id": "7d22a412-2d04-4a9e-b445-c02a7a03ded2",
   "metadata": {},
   "outputs": [
    {
     "name": "stdout",
     "output_type": "stream",
     "text": [
      "OK\n"
     ]
    },
    {
     "data": {
      "text/plain": [
       "<solution.FileReader at 0x7fca347eab00>"
      ]
     },
     "execution_count": 2,
     "metadata": {},
     "output_type": "execute_result"
    }
   ],
   "source": [
    "FileReader()"
   ]
  },
  {
   "cell_type": "code",
   "execution_count": 7,
   "id": "2772eb92-fe60-48cf-8b5d-e35b4e3f8795",
   "metadata": {},
   "outputs": [],
   "source": [
    "\n",
    "\n",
    "class FileReader():\n",
    "    \n",
    "    def __init__(self, path):\n",
    "        self.path = path\n",
    "        \n",
    "    def read(self):\n",
    "        try:\n",
    "            with open(self.path,'r') as f:\n",
    "                return f.read()\n",
    "        except:\n",
    "            return ''\n",
    "            \n",
    "            \n",
    "        "
   ]
  },
  {
   "cell_type": "code",
   "execution_count": 2,
   "id": "af38c8d8-a039-4ff9-a507-27cd290e6256",
   "metadata": {},
   "outputs": [],
   "source": [
    "reader = FileReader(\"tempFile\")"
   ]
  },
  {
   "cell_type": "code",
   "execution_count": 3,
   "id": "43197e5c-ac49-47ae-84ed-c4a2c8bcfd07",
   "metadata": {},
   "outputs": [
    {
     "data": {
      "text/plain": [
       "'OK'"
      ]
     },
     "execution_count": 3,
     "metadata": {},
     "output_type": "execute_result"
    }
   ],
   "source": [
    "reader.read()"
   ]
  },
  {
   "cell_type": "code",
   "execution_count": 12,
   "id": "88065683-ea1c-416c-be23-88e4f56b7ac7",
   "metadata": {},
   "outputs": [],
   "source": [
    "with open(\"tempFile\", 'w') as f:\n",
    "    f.write(\"OK\")"
   ]
  },
  {
   "cell_type": "code",
   "execution_count": 4,
   "id": "10986cc5-75f1-4a31-86fb-2ed6b6d88e42",
   "metadata": {},
   "outputs": [
    {
     "data": {
      "text/plain": [
       "''"
      ]
     },
     "execution_count": 4,
     "metadata": {},
     "output_type": "execute_result"
    }
   ],
   "source": [
    "from solution import FileReader\n",
    "reader = FileReader('not_exist_file.txt')\n",
    "text = reader.read()\n",
    "text"
   ]
  },
  {
   "cell_type": "code",
   "execution_count": 5,
   "id": "3fe36696-0a74-4c46-98ed-bc2c5758e9ff",
   "metadata": {},
   "outputs": [],
   "source": [
    "with open('some_file.txt', 'w') as file:\n",
    "    file.write('some text')"
   ]
  },
  {
   "cell_type": "code",
   "execution_count": 6,
   "id": "720a1cea-bcef-4452-9794-c7c3d159f4cc",
   "metadata": {},
   "outputs": [
    {
     "data": {
      "text/plain": [
       "'some text'"
      ]
     },
     "execution_count": 6,
     "metadata": {},
     "output_type": "execute_result"
    }
   ],
   "source": [
    "reader = FileReader('some_file.txt')\n",
    "text = reader.read()\n",
    "text"
   ]
  },
  {
   "cell_type": "code",
   "execution_count": 7,
   "id": "6baa66ff-182e-4c5e-9a77-6bef99991ffb",
   "metadata": {},
   "outputs": [
    {
     "data": {
      "text/plain": [
       "solution.FileReader"
      ]
     },
     "execution_count": 7,
     "metadata": {},
     "output_type": "execute_result"
    }
   ],
   "source": [
    "type(reader)"
   ]
  },
  {
   "cell_type": "code",
   "execution_count": null,
   "id": "a25ea359-1895-4ab2-b9f9-c32fc031a771",
   "metadata": {},
   "outputs": [],
   "source": []
  }
 ],
 "metadata": {
  "kernelspec": {
   "display_name": "Python 3",
   "language": "python",
   "name": "python3"
  },
  "language_info": {
   "codemirror_mode": {
    "name": "ipython",
    "version": 3
   },
   "file_extension": ".py",
   "mimetype": "text/x-python",
   "name": "python",
   "nbconvert_exporter": "python",
   "pygments_lexer": "ipython3",
   "version": "3.6.9"
  }
 },
 "nbformat": 4,
 "nbformat_minor": 5
}
