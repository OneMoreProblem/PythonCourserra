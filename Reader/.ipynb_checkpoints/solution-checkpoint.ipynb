{
 "cells": [
  {
   "cell_type": "code",
   "execution_count": 1,
   "id": "e8b6cac7-fb05-47b5-818e-3e88a3b9ad3b",
   "metadata": {},
   "outputs": [],
   "source": [
    "from solution import FileReader"
   ]
  },
  {
   "cell_type": "code",
   "execution_count": 2,
   "id": "7d22a412-2d04-4a9e-b445-c02a7a03ded2",
   "metadata": {},
   "outputs": [
    {
     "name": "stdout",
     "output_type": "stream",
     "text": [
      "OK\n"
     ]
    },
    {
     "data": {
      "text/plain": [
       "<solution.FileReader at 0x7fca347eab00>"
      ]
     },
     "execution_count": 2,
     "metadata": {},
     "output_type": "execute_result"
    }
   ],
   "source": [
    "FileReader()"
   ]
  },
  {
   "cell_type": "code",
   "execution_count": 6,
   "id": "2772eb92-fe60-48cf-8b5d-e35b4e3f8795",
   "metadata": {},
   "outputs": [
    {
     "ename": "SyntaxError",
     "evalue": "invalid syntax (<ipython-input-6-b55fdd21c625>, line 6)",
     "output_type": "error",
     "traceback": [
      "\u001b[0;36m  File \u001b[0;32m\"<ipython-input-6-b55fdd21c625>\"\u001b[0;36m, line \u001b[0;32m6\u001b[0m\n\u001b[0;31m    def read(self,self.path):\u001b[0m\n\u001b[0m                      ^\u001b[0m\n\u001b[0;31mSyntaxError\u001b[0m\u001b[0;31m:\u001b[0m invalid syntax\n"
     ]
    }
   ],
   "source": [
    "\n",
    "\n",
    "class FileReader():\n",
    "    \n",
    "    def __init__(self, path):\n",
    "        self.path = path\n",
    "        \n",
    "    def read(self):\n",
    "        try:\n",
    "            with open(self.path,'r') as f:\n",
    "                return f.read()\n",
    "        except:\n",
    "            return ''\n",
    "            \n",
    "            \n",
    "        "
   ]
  },
  {
   "cell_type": "code",
   "execution_count": null,
   "id": "af38c8d8-a039-4ff9-a507-27cd290e6256",
   "metadata": {},
   "outputs": [],
   "source": []
  }
 ],
 "metadata": {
  "kernelspec": {
   "display_name": "Python 3",
   "language": "python",
   "name": "python3"
  },
  "language_info": {
   "codemirror_mode": {
    "name": "ipython",
    "version": 3
   },
   "file_extension": ".py",
   "mimetype": "text/x-python",
   "name": "python",
   "nbconvert_exporter": "python",
   "pygments_lexer": "ipython3",
   "version": "3.6.9"
  }
 },
 "nbformat": 4,
 "nbformat_minor": 5
}
