{
 "cells": [
  {
   "cell_type": "code",
   "execution_count": 1,
   "id": "f3e88214-cbc7-451c-bab6-168c6d40e455",
   "metadata": {},
   "outputs": [],
   "source": []
  },
  {
   "cell_type": "code",
   "execution_count": 1,
   "id": "2a912f26-1404-4b4a-8277-fbebf2305288",
   "metadata": {},
   "outputs": [],
   "source": [
    "from solution import *"
   ]
  },
  {
   "cell_type": "code",
   "execution_count": 23,
   "id": "585fde90-7743-4905-b14d-091c41448730",
   "metadata": {},
   "outputs": [],
   "source": [
    "import os.path\n",
    "import csv\n",
    "\n",
    "\n",
    "class CarBase:\n",
    "    \n",
    "    car_type = None\n",
    "    photo_file_name = None\n",
    "    brand = None\n",
    "    carrying = None\n",
    "    \n",
    "    def __init__(self, brand, photo_file_name, carrying):\n",
    "        self.brand = brand\n",
    "        self.photo_file_name = photo_file_name\n",
    "        self.carrying = carrying\n",
    "        \n",
    "        \n",
    "    def get_photo_file_ext(self):\n",
    "        return os.path.splitext(self.photo_file_name)[1]\n",
    "\n",
    "\n",
    "class Car(CarBase):\n",
    "    \n",
    "    passenger_seats_count = None\n",
    "    \n",
    "    def __init__(self, brand, photo_file_name, carrying, passenger_seats_count):\n",
    "        self.car_type = 'car'\n",
    "        super().__init__(brand, photo_file_name, carrying)\n",
    "        self.passenger_seats_count = passenger_seats_count\n",
    "\n",
    "\n",
    "class Truck(CarBase):\n",
    "    \n",
    "    body_width = None\n",
    "    body_height = None\n",
    "    body_length = None\n",
    "    \n",
    "    def __init__(self, brand, photo_file_name, carrying, body_whl):\n",
    "        super().__init__(brand, photo_file_name, carrying)\n",
    "        self.car_type = 'truck'\n",
    "        size = body_whl.split('x')\n",
    "        self.body_width = float(size[0])\n",
    "        self.body_height = float(size[1])\n",
    "        self.body_length = float(size[2])\n",
    "        \n",
    "    def get_body_volume():\n",
    "        return body_width*body_height*body_length\n",
    "\n",
    "\n",
    "class SpecMachine(CarBase):\n",
    "    \n",
    "    extra = None\n",
    "    \n",
    "    def __init__(self, brand, photo_file_name, carrying, extra):\n",
    "        super().__init__(brand, photo_file_name, carrying)\n",
    "        self.car_type = 'extra'\n",
    "        self.extra = extra\n",
    "\n",
    "\n",
    "def get_car_list(csv_filename):\n",
    "    car_list = []\n",
    "    with open(csv_filename) as csv_fd:\n",
    "        reader = csv.reader(csv_fd, delimiter=';')\n",
    "        next(reader)  # пропускаем заголовок\n",
    "        for row in reader:\n",
    "            print(row)\n",
    "    "
   ]
  },
  {
   "cell_type": "code",
   "execution_count": 26,
   "id": "1b52964c-f67b-4f7e-9d79-342740526644",
   "metadata": {},
   "outputs": [
    {
     "data": {
      "text/plain": [
       "'.jpg'"
      ]
     },
     "execution_count": 26,
     "metadata": {},
     "output_type": "execute_result"
    }
   ],
   "source": [
    "os.path.splitext('d355.jpg')[1]"
   ]
  },
  {
   "cell_type": "code",
   "execution_count": 25,
   "id": "a0f6fc97-378b-42ee-9660-28af520871cf",
   "metadata": {},
   "outputs": [
    {
     "name": "stdout",
     "output_type": "stream",
     "text": [
      "car\n",
      "Bugatti Veyron\n",
      "bugatti.png\n",
      "0.312\n",
      "2\n",
      "truck\n",
      "Nissan\n",
      "nissan.jpeg\n",
      "1.87\n",
      "3.92\n",
      "2.09\n",
      "__________________\n",
      "extra\n",
      "Komatsu-D355\n",
      "93\n",
      "d355.jpg\n",
      "pipelayer specs\n",
      ".jpg\n"
     ]
    }
   ],
   "source": [
    "car = Car('Bugatti Veyron', 'bugatti.png', '0.312', '2')\n",
    "print(car.car_type, car.brand, car.photo_file_name, car.carrying,\n",
    "    car.passenger_seats_count, sep='\\n')\n",
    "\n",
    "truck = Truck('Nissan', 'nissan.jpeg', '1.5', '3.92x2.09x1.87')\n",
    "print(truck.car_type, truck.brand, truck.photo_file_name, truck.body_length,\n",
    "    truck.body_width, truck.body_height, sep='\\n')\n",
    "print('__________________')\n",
    "spec_machine = SpecMachine('Komatsu-D355', 'd355.jpg', '93', 'pipelayer specs')\n",
    "print(spec_machine.car_type, spec_machine.brand, spec_machine.carrying,\n",
    "    spec_machine.photo_file_name, spec_machine.extra, sep='\\n')\n",
    "print(spec_machine.get_photo_file_ext())"
   ]
  },
  {
   "cell_type": "code",
   "execution_count": null,
   "id": "f623300d-f0e6-4779-82ba-216d6795d0a8",
   "metadata": {},
   "outputs": [],
   "source": [
    "import csv\n",
    "\n",
    "with open(csv_filename) as csv_fd:\n",
    "    reader = csv.reader(csv_fd, delimiter=';')\n",
    "    next(reader)  # пропускаем заголовок\n",
    "    for row in reader:\n",
    "        print(row)"
   ]
  },
  {
   "cell_type": "code",
   "execution_count": 29,
   "id": "82769740-fa0d-43be-afb3-134020675ded",
   "metadata": {},
   "outputs": [
    {
     "name": "stdout",
     "output_type": "stream",
     "text": [
      "['car', 'Nissan xTtrail', '4', 'f1.jpeg', '', '2.5', '']\n",
      "['truck', 'Man', '', 'f2.png', '8x3x2.5', '20', '']\n",
      "['truck', 'Man', '', 'f2.png', '', '20', '']\n",
      "['car', 'Mazda 6', '4', 'f3.jpeg', '', '2.5', '']\n",
      "['', '', '', '']\n",
      "['spec_machine', 'Hitachi', '', 'f4', '', '1.2', 'Легкая техника для уборки снега']\n",
      "[]\n"
     ]
    },
    {
     "ename": "TypeError",
     "evalue": "object of type 'NoneType' has no len()",
     "output_type": "error",
     "traceback": [
      "\u001b[0;31m---------------------------------------------------------------------------\u001b[0m",
      "\u001b[0;31mTypeError\u001b[0m                                 Traceback (most recent call last)",
      "\u001b[0;32m<ipython-input-29-9eb977d89715>\u001b[0m in \u001b[0;36m<module>\u001b[0;34m\u001b[0m\n\u001b[1;32m      6\u001b[0m \u001b[0;34m\u001b[0m\u001b[0m\n\u001b[1;32m      7\u001b[0m \u001b[0mcars\u001b[0m \u001b[0;34m=\u001b[0m \u001b[0mget_car_list\u001b[0m\u001b[0;34m(\u001b[0m\u001b[0;34m'coursera_week3_cars.csv'\u001b[0m\u001b[0;34m)\u001b[0m\u001b[0;34m\u001b[0m\u001b[0;34m\u001b[0m\u001b[0m\n\u001b[0;32m----> 8\u001b[0;31m \u001b[0mlen\u001b[0m\u001b[0;34m(\u001b[0m\u001b[0mcars\u001b[0m\u001b[0;34m)\u001b[0m\u001b[0;34m\u001b[0m\u001b[0;34m\u001b[0m\u001b[0m\n\u001b[0m\u001b[1;32m      9\u001b[0m \u001b[0;32mfor\u001b[0m \u001b[0mcar\u001b[0m \u001b[0;32min\u001b[0m \u001b[0mcars\u001b[0m\u001b[0;34m:\u001b[0m\u001b[0;34m\u001b[0m\u001b[0;34m\u001b[0m\u001b[0m\n\u001b[1;32m     10\u001b[0m     \u001b[0mprint\u001b[0m\u001b[0;34m(\u001b[0m\u001b[0mtype\u001b[0m\u001b[0;34m(\u001b[0m\u001b[0mcar\u001b[0m\u001b[0;34m)\u001b[0m\u001b[0;34m)\u001b[0m\u001b[0;34m\u001b[0m\u001b[0;34m\u001b[0m\u001b[0m\n",
      "\u001b[0;31mTypeError\u001b[0m: object of type 'NoneType' has no len()"
     ]
    }
   ],
   "source": [
    "#from solution import *\n",
    "\n",
    "\n",
    "\n",
    "\n",
    "\n",
    "cars = get_car_list('coursera_week3_cars.csv')\n",
    "len(cars)\n",
    "for car in cars:\n",
    "    print(type(car))\n",
    "\n",
    "\n",
    "print(cars[0].passenger_seats_count)\n",
    "print(cars[1].get_body_volume())\n",
    " "
   ]
  },
  {
   "cell_type": "code",
   "execution_count": 28,
   "id": "7036b1d9-186b-4814-8f69-f9c748e44c4e",
   "metadata": {},
   "outputs": [
    {
     "name": "stdout",
     "output_type": "stream",
     "text": [
      "__pycache__  coursera_week3_cars.csv  solution.ipynb  solution.py\n"
     ]
    }
   ],
   "source": [
    "!ls"
   ]
  },
  {
   "cell_type": "code",
   "execution_count": 32,
   "id": "317b98f5-6ad7-4162-a247-b730cc52d1e9",
   "metadata": {},
   "outputs": [],
   "source": [
    "truck = Truck('Nissan', 'nissan', '1.5', '3.92x2.09x1.87')"
   ]
  },
  {
   "cell_type": "code",
   "execution_count": 33,
   "id": "6e69408b-5506-478a-b412-e779064c888e",
   "metadata": {},
   "outputs": [
    {
     "data": {
      "text/plain": [
       "''"
      ]
     },
     "execution_count": 33,
     "metadata": {},
     "output_type": "execute_result"
    }
   ],
   "source": [
    "truck.get_photo_file_ext()"
   ]
  },
  {
   "cell_type": "code",
   "execution_count": null,
   "id": "810588c0-25ee-4d76-af16-696ea011aef5",
   "metadata": {},
   "outputs": [],
   "source": []
  }
 ],
 "metadata": {
  "kernelspec": {
   "display_name": "Python 3",
   "language": "python",
   "name": "python3"
  },
  "language_info": {
   "codemirror_mode": {
    "name": "ipython",
    "version": 3
   },
   "file_extension": ".py",
   "mimetype": "text/x-python",
   "name": "python",
   "nbconvert_exporter": "python",
   "pygments_lexer": "ipython3",
   "version": "3.6.9"
  }
 },
 "nbformat": 4,
 "nbformat_minor": 5
}
