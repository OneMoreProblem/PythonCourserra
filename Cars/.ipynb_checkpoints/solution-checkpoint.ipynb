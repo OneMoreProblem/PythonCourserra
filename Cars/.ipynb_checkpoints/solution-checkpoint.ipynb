{
 "cells": [
  {
   "cell_type": "code",
   "execution_count": 1,
   "id": "f3e88214-cbc7-451c-bab6-168c6d40e455",
   "metadata": {},
   "outputs": [],
   "source": []
  },
  {
   "cell_type": "code",
   "execution_count": 1,
   "id": "2a912f26-1404-4b4a-8277-fbebf2305288",
   "metadata": {},
   "outputs": [],
   "source": [
    "from solution import *"
   ]
  },
  {
   "cell_type": "code",
   "execution_count": 5,
   "id": "585fde90-7743-4905-b14d-091c41448730",
   "metadata": {},
   "outputs": [],
   "source": [
    "class CarBase:\n",
    "    \n",
    "    car_type = None\n",
    "    photo_file_name = None\n",
    "    brand = None\n",
    "    carrying = None\n",
    "    \n",
    "    def __init__(self, brand, photo_file_name, carrying):\n",
    "        pass\n",
    "    \n",
    "    def get_photo_file_ext():\n",
    "        pass\n",
    "\n",
    "\n",
    "class Car(CarBase):\n",
    "    \n",
    "    passenger_seats_count = None\n",
    "    \n",
    "    def __init__(self, brand, photo_file_name, carrying, passenger_seats_count):\n",
    "        pass\n",
    "\n",
    "\n",
    "class Truck(CarBase):\n",
    "    \n",
    "    body_width = None\n",
    "    body_height = None\n",
    "    body_length = None\n",
    "    \n",
    "    def __init__(self, brand, photo_file_name, carrying, body_whl):\n",
    "        pass\n",
    "    \n",
    "    def get_body_volume():\n",
    "        pass\n",
    "\n",
    "\n",
    "class SpecMachine(CarBase):\n",
    "    \n",
    "    extra = None\n",
    "    \n",
    "    def __init__(self, brand, photo_file_name, carrying, extra):\n",
    "        pass\n",
    "\n",
    "\n",
    "def get_car_list(csv_filename):\n",
    "    car_list = []\n",
    "    return car_list\n"
   ]
  },
  {
   "cell_type": "code",
   "execution_count": 7,
   "id": "1b52964c-f67b-4f7e-9d79-342740526644",
   "metadata": {},
   "outputs": [],
   "source": [
    "caa = CarBase(\"aaa\",\"asd.txt\",150)"
   ]
  },
  {
   "cell_type": "code",
   "execution_count": 9,
   "id": "a0f6fc97-378b-42ee-9660-28af520871cf",
   "metadata": {},
   "outputs": [
    {
     "name": "stdout",
     "output_type": "stream",
     "text": [
      "None\n"
     ]
    }
   ],
   "source": [
    "print(caa.car_type)"
   ]
  },
  {
   "cell_type": "code",
   "execution_count": null,
   "id": "f623300d-f0e6-4779-82ba-216d6795d0a8",
   "metadata": {},
   "outputs": [],
   "source": []
  },
  {
   "cell_type": "code",
   "execution_count": null,
   "id": "82769740-fa0d-43be-afb3-134020675ded",
   "metadata": {},
   "outputs": [],
   "source": []
  }
 ],
 "metadata": {
  "kernelspec": {
   "display_name": "Python 3",
   "language": "python",
   "name": "python3"
  },
  "language_info": {
   "codemirror_mode": {
    "name": "ipython",
    "version": 3
   },
   "file_extension": ".py",
   "mimetype": "text/x-python",
   "name": "python",
   "nbconvert_exporter": "python",
   "pygments_lexer": "ipython3",
   "version": "3.6.9"
  }
 },
 "nbformat": 4,
 "nbformat_minor": 5
}
