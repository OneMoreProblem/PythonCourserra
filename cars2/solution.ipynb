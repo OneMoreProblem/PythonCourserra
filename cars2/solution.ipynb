{
 "cells": [
  {
   "cell_type": "code",
   "execution_count": 90,
   "metadata": {},
   "outputs": [],
   "source": [
    "import os\n",
    "\n",
    "class CarBase:\n",
    "    car_type        = None\n",
    "    brand           = None\n",
    "    photo_file_name = ''\n",
    "    carrying        = None\n",
    "    \n",
    "#     def __new__(cls, brand, photo_file_name, carrying):\n",
    "#         if (brand == '') or (cls.get_photo_file_ext() == '') or (carrying == ''):\n",
    "#             return\n",
    "#         else:\n",
    "#             if  (cls.get_photo_file_ext() == '.jpg')  and \\\n",
    "#                 (cls.get_photo_file_ext() == '.jpeg') and \\\n",
    "#                 (cls.get_photo_file_ext() == '.png' ) and \\\n",
    "#                 (cls.get_photo_file_ext() == '.gif'):\n",
    "#                     return super(CarBase, cls).__new__(brand, photo_file_name, carrying)\n",
    "#             else:\n",
    "#                 return\n",
    "               \n",
    "    \n",
    "    def __init__(self, brand, photo_file_name, carrying):\n",
    "        self.brand           = brand\n",
    "        self.photo_file_name = photo_file_name\n",
    "        self.carrying        = carrying\n",
    "        \n",
    "    @classmethod\n",
    "    def get_photo_file_ext(cls):\n",
    "        return os.path.splitext(cls.photo_file_name)[1]\n",
    "        \n",
    "\n",
    "class Car(CarBase):\n",
    "    car_type              = 'car'\n",
    "    passenger_seats_count = None\n",
    "    \n",
    "    def __init__(self, brand, photo_file_name, carrying, passenger_seats_count):   \n",
    "        super().__init__(brand, photo_file_name, carrying)\n",
    "        self.passenger_seats_count = passenger_seats_count\n",
    "\n",
    "\n",
    "class Truck(CarBase):\n",
    "    car_type    = 'truck'\n",
    "    body_width  = None\n",
    "    body_height = None\n",
    "    body_length = None\n",
    "    \n",
    "    def __init__(self, brand, photo_file_name, carrying, body_whl):\n",
    "        super().__init__(brand, photo_file_name, carrying)\n",
    "        body_whl    = body_whl.split('x')\n",
    "        self.body_width  = float(body_whl[1])\n",
    "        self.body_height = float(body_whl[2])\n",
    "        self.body_length = float(body_whl[0])\n",
    "        \n",
    "    def get_body_volume(self):\n",
    "        return self.body_width*self.body_height*self.body_length\n",
    "\n",
    "\n",
    "class SpecMachine(CarBase):\n",
    "    car_type = 'spec_machine'\n",
    "    extra    = None\n",
    "    \n",
    "    def __init__(self, brand, photo_file_name, carrying, extra):\n",
    "        super().__init__(brand, photo_file_name, carrying)\n",
    "        self.extra = extra\n",
    "\n",
    "\n",
    "def get_car_list(csv_filename):\n",
    "    car_list = []\n",
    "    \n",
    "    with open(csv_filename) as csv_fd:\n",
    "        reader = csv.reader(csv_fd, delimiter=';')\n",
    "        next(reader)\n",
    "        \n",
    "        for row in reader:\n",
    "            if row[0] == 'car':\n",
    "                car   =   Car(row[1],row[2],row[3],row[4])\n",
    "                car_list.append(car)\n",
    "                \n",
    "            if row[1] == 'truck':\n",
    "                truck = Truck(row[1],row[2],row[4],row[5])\n",
    "                car_list.append(truck)\n",
    "                \n",
    "            if row[2] == 'spec_machine':\n",
    "                spec  = SpecMachine(row[1],row[3],row[5],row[6])\n",
    "                car_list.append(spec)\n",
    "                \n",
    "            else:\n",
    "                pass\n",
    "            \n",
    "    return car_list"
   ]
  },
  {
   "cell_type": "code",
   "execution_count": 91,
   "metadata": {},
   "outputs": [
    {
     "name": "stdout",
     "output_type": "stream",
     "text": [
      "['car', 'Nissan xTtrail', '4', 'f1.jpeg', '', '2.5', '']\n",
      "['truck', 'Man', '', 'f2.png', '8x3x2.5', '20', '']\n",
      "['truck', 'Man', '', 'f2.png', '', '20', '']\n",
      "['car', 'Mazda 6', '4', 'f3.jpeg', '', '2.5', '']\n",
      "['', '', '', '']\n",
      "['spec_machine', 'Hitachi', '', 'f4', '', '1.2', 'Легкая техника для уборки снега']\n",
      "[]\n"
     ]
    }
   ],
   "source": [
    "import csv\n",
    "csv_filename = 'cars_week3.csv'\n",
    "with open(csv_filename) as csv_fd:\n",
    "    reader = csv.reader(csv_fd, delimiter=';')\n",
    "    next(reader)  # пропускаем заголовок\n",
    "    for row in reader:\n",
    "        print(row)"
   ]
  },
  {
   "cell_type": "code",
   "execution_count": 92,
   "metadata": {},
   "outputs": [],
   "source": [
    "car = Car('Bugatti Veyron', 'bugatti.png', '0.312', '2')"
   ]
  },
  {
   "cell_type": "code",
   "execution_count": 93,
   "metadata": {},
   "outputs": [
    {
     "name": "stdout",
     "output_type": "stream",
     "text": [
      "car Bugatti Veyron bugatti.png 0.312 2\n"
     ]
    }
   ],
   "source": [
    "print(car.car_type,car.brand, car.photo_file_name, car.carrying, car.passenger_seats_count)"
   ]
  },
  {
   "cell_type": "code",
   "execution_count": 57,
   "metadata": {},
   "outputs": [],
   "source": [
    "truck = Truck('Nissan', 'nissan.jpeg', '1.5', '3.92x2.09x1.87')"
   ]
  },
  {
   "cell_type": "code",
   "execution_count": 32,
   "metadata": {},
   "outputs": [
    {
     "name": "stdout",
     "output_type": "stream",
     "text": [
      "truck\n",
      "Nissan\n",
      "nissan.jpeg\n",
      "3.92\n",
      "2.09\n",
      "1.87\n"
     ]
    }
   ],
   "source": [
    "print(truck.car_type, truck.brand, truck.photo_file_name, truck.body_length,\n",
    "      truck.body_width, truck.body_height, sep='\\n')"
   ]
  },
  {
   "cell_type": "code",
   "execution_count": 52,
   "metadata": {},
   "outputs": [],
   "source": [
    "spec_machine = SpecMachine('Komatsu-D355', 'd355.jpg', '93', 'pipelayer specs')"
   ]
  },
  {
   "cell_type": "code",
   "execution_count": 53,
   "metadata": {},
   "outputs": [
    {
     "name": "stdout",
     "output_type": "stream",
     "text": [
      "spec_machine\n",
      "Komatsu-D355\n",
      "93\n",
      "d355.jpg\n",
      "pipelayer specs\n"
     ]
    }
   ],
   "source": [
    "print(spec_machine.car_type, spec_machine.brand, spec_machine.carrying,\n",
    "      spec_machine.photo_file_name, spec_machine.extra, sep='\\n')"
   ]
  },
  {
   "cell_type": "code",
   "execution_count": 54,
   "metadata": {},
   "outputs": [
    {
     "data": {
      "text/plain": [
       "'.jpg'"
      ]
     },
     "execution_count": 54,
     "metadata": {},
     "output_type": "execute_result"
    }
   ],
   "source": [
    "spec_machine.get_photo_file_ext()"
   ]
  },
  {
   "cell_type": "code",
   "execution_count": 60,
   "metadata": {},
   "outputs": [],
   "source": [
    "a = 'd355.jpg'\n",
    "a = 'f'"
   ]
  },
  {
   "cell_type": "code",
   "execution_count": 61,
   "metadata": {},
   "outputs": [
    {
     "data": {
      "text/plain": [
       "''"
      ]
     },
     "execution_count": 61,
     "metadata": {},
     "output_type": "execute_result"
    }
   ],
   "source": [
    "os.path.splitext(a)[1]"
   ]
  },
  {
   "cell_type": "code",
   "execution_count": 58,
   "metadata": {},
   "outputs": [
    {
     "data": {
      "text/plain": [
       "15.320536"
      ]
     },
     "execution_count": 58,
     "metadata": {},
     "output_type": "execute_result"
    }
   ],
   "source": [
    "truck.get_body_volume()"
   ]
  },
  {
   "cell_type": "code",
   "execution_count": null,
   "metadata": {},
   "outputs": [],
   "source": []
  }
 ],
 "metadata": {
  "kernelspec": {
   "display_name": "Python 3",
   "language": "python",
   "name": "python3"
  },
  "language_info": {
   "codemirror_mode": {
    "name": "ipython",
    "version": 3
   },
   "file_extension": ".py",
   "mimetype": "text/x-python",
   "name": "python",
   "nbconvert_exporter": "python",
   "pygments_lexer": "ipython3",
   "version": "3.8.5"
  }
 },
 "nbformat": 4,
 "nbformat_minor": 4
}
