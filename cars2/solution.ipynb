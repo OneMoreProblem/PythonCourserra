{
 "cells": [
  {
   "cell_type": "code",
   "execution_count": 404,
   "metadata": {},
   "outputs": [],
   "source": [
    "import os\n",
    "\n",
    "class CarBase:\n",
    "    car_type        = None\n",
    "    brand           = None\n",
    "    photo_file_name = ''\n",
    "    carrying        = 0\n",
    "    \n",
    "#     def __new__(cls, brand, photo_file_name, carrying):\n",
    "#         if (brand == '') or (cls.get_photo_file_ext() == '') or (carrying == ''):\n",
    "#             return\n",
    "#         else:\n",
    "#             if  (cls.get_photo_file_ext() == '.jpg')  and \\\n",
    "#                 (cls.get_photo_file_ext() == '.jpeg') and \\\n",
    "#                 (cls.get_photo_file_ext() == '.png' ) and \\\n",
    "#                 (cls.get_photo_file_ext() == '.gif'):\n",
    "#                     return super(CarBase, cls).__new__(brand, photo_file_name, carrying)\n",
    "#             else:\n",
    "#                 return\n",
    "               \n",
    "    \n",
    "    def __init__(self, brand, photo_file_name, carrying):\n",
    "        self.brand           = brand\n",
    "        self.photo_file_name = photo_file_name\n",
    "        self.carrying        = float(carrying)\n",
    "        \n",
    "    def get_photo_file_ext(self):\n",
    "        return os.path.splitext(self.photo_file_name)[1]\n",
    "        \n",
    "\n",
    "class Car(CarBase):\n",
    "    car_type              = 'car'\n",
    "    passenger_seats_count = None\n",
    "    \n",
    "    def __init__(self, brand, photo_file_name, carrying, passenger_seats_count):   \n",
    "        super().__init__(brand, photo_file_name, carrying)\n",
    "        self.passenger_seats_count = int(passenger_seats_count)\n",
    "\n",
    "\n",
    "class Truck(CarBase):\n",
    "    car_type    = 'truck'\n",
    "    body_width  = 0.\n",
    "    body_height = 0.\n",
    "    body_length = 0.\n",
    "    \n",
    "    def __init__(self, brand, photo_file_name, carrying, body_whl):\n",
    "        super().__init__(brand, photo_file_name, carrying)\n",
    "        body_whl    = body_whl.split('x')\n",
    "        if len(body_whl) == 3:\n",
    "            try:\n",
    "                self.body_width  = float(body_whl[1])\n",
    "                self.body_height = float(body_whl[2])\n",
    "                self.body_length = float(body_whl[0])\n",
    "            except (ValueError):\n",
    "                print('Not Valid')\n",
    "        else:\n",
    "            print('Not Valid')\n",
    "        \n",
    "    def get_body_volume(self):\n",
    "        try:\n",
    "            volume = self.body_width*self.body_height*self.body_length\n",
    "        except ValueError:\n",
    "            print('Not Valid')\n",
    "        return volume\n",
    "\n",
    "\n",
    "class SpecMachine(CarBase):\n",
    "    car_type = 'spec_machine'\n",
    "    extra    = None\n",
    "    \n",
    "    def __init__(self, brand, photo_file_name, carrying, extra):\n",
    "        super().__init__(brand, photo_file_name, carrying)\n",
    "        self.extra = extra\n",
    "\n",
    "def get_car_list(csv_filename):\n",
    "    car_list = []\n",
    "    \n",
    "    with open(csv_filename) as csv_fd:\n",
    "        reader = csv.reader(csv_fd, delimiter=';')\n",
    "        try:\n",
    "            next(reader)\n",
    "        except:\n",
    "            print('Empty file')\n",
    "        \n",
    "        for row in reader:\n",
    "            if len(row) == 0:\n",
    "                continue\n",
    "\n",
    "            if  (os.path.splitext(row[3])[1] == '.jpg')  or \\\n",
    "                (os.path.splitext(row[3])[1] == '.jpeg') or \\\n",
    "                (os.path.splitext(row[3])[1] == '.png' ) or \\\n",
    "                (os.path.splitext(row[3])[1] == '.gif'):\n",
    "                if row[0] == 'car':\n",
    "                    if not(row[1] == '') and not(row[2] == '') and not(row[3] == '') and not(row[5] == ''):\n",
    "                        car   =   Car(row[1],row[3],row[5],row[2])\n",
    "                        car_list.append(car)\n",
    "                \n",
    "                if row[0] == 'truck':\n",
    "                    if not(row[1] == '') and not(row[3] == '') and not(row[5] == ''):\n",
    "                        truck = Truck(row[1],row[3],row[5],row[4])\n",
    "                        car_list.append(truck)\n",
    "                \n",
    "                if row[0] == 'spec_machine':\n",
    "                    if not(row[1] == '') and not(row[3] == '') and not(row[5] == '') and not(row[6] == ''):\n",
    "                        spec  = SpecMachine(row[1],row[3],row[5],row[6])\n",
    "                        car_list.append(spec)\n",
    "                \n",
    "            else:\n",
    "                pass\n",
    "            \n",
    "    return car_list"
   ]
  },
  {
   "cell_type": "code",
   "execution_count": 399,
   "metadata": {},
   "outputs": [
    {
     "name": "stdout",
     "output_type": "stream",
     "text": [
      "Not Valid\n"
     ]
    }
   ],
   "source": [
    "car = Truck('Nissan', 't1.jpg', '2.5', '1x2x3x4')"
   ]
  },
  {
   "cell_type": "code",
   "execution_count": 377,
   "metadata": {},
   "outputs": [
    {
     "data": {
      "text/plain": [
       "<__main__.Truck at 0x7f62d3741fd0>"
      ]
     },
     "execution_count": 377,
     "metadata": {},
     "output_type": "execute_result"
    }
   ],
   "source": [
    "car"
   ]
  },
  {
   "cell_type": "code",
   "execution_count": 356,
   "metadata": {},
   "outputs": [],
   "source": [
    "car = Car('Bugatti Veyron', 'bugatti.png', '0.312', '2')"
   ]
  },
  {
   "cell_type": "code",
   "execution_count": 357,
   "metadata": {},
   "outputs": [
    {
     "name": "stdout",
     "output_type": "stream",
     "text": [
      "car Bugatti Veyron bugatti.png 0.312 2\n"
     ]
    }
   ],
   "source": [
    "print(car.car_type,car.brand, car.photo_file_name, car.carrying, car.passenger_seats_count)"
   ]
  },
  {
   "cell_type": "code",
   "execution_count": 358,
   "metadata": {},
   "outputs": [],
   "source": [
    "truck = Truck('Nissan', 'nissan.jpeg', '1.5', '3.92x2.09x1.87')"
   ]
  },
  {
   "cell_type": "code",
   "execution_count": 359,
   "metadata": {},
   "outputs": [
    {
     "name": "stdout",
     "output_type": "stream",
     "text": [
      "truck\n",
      "Nissan\n",
      "nissan.jpeg\n",
      "3.92\n",
      "2.09\n",
      "1.87\n"
     ]
    }
   ],
   "source": [
    "print(truck.car_type, truck.brand, truck.photo_file_name, truck.body_length,\n",
    "      truck.body_width, truck.body_height, sep='\\n')"
   ]
  },
  {
   "cell_type": "code",
   "execution_count": 360,
   "metadata": {},
   "outputs": [],
   "source": [
    "spec_machine = SpecMachine('Komatsu-D355', 'd355.jpg', '93', 'pipelayer specs')"
   ]
  },
  {
   "cell_type": "code",
   "execution_count": 361,
   "metadata": {},
   "outputs": [
    {
     "name": "stdout",
     "output_type": "stream",
     "text": [
      "spec_machine\n",
      "Komatsu-D355\n",
      "93\n",
      "d355.jpg\n",
      "pipelayer specs\n"
     ]
    }
   ],
   "source": [
    "print(spec_machine.car_type, spec_machine.brand, spec_machine.carrying,\n",
    "      spec_machine.photo_file_name, spec_machine.extra, sep='\\n')"
   ]
  },
  {
   "cell_type": "code",
   "execution_count": 362,
   "metadata": {},
   "outputs": [
    {
     "data": {
      "text/plain": [
       "'.jpg'"
      ]
     },
     "execution_count": 362,
     "metadata": {},
     "output_type": "execute_result"
    }
   ],
   "source": [
    "spec_machine.get_photo_file_ext()"
   ]
  },
  {
   "cell_type": "code",
   "execution_count": 363,
   "metadata": {},
   "outputs": [],
   "source": [
    "a = 'd355.jpg'\n",
    "a = 'f'"
   ]
  },
  {
   "cell_type": "code",
   "execution_count": 364,
   "metadata": {},
   "outputs": [
    {
     "data": {
      "text/plain": [
       "''"
      ]
     },
     "execution_count": 364,
     "metadata": {},
     "output_type": "execute_result"
    }
   ],
   "source": [
    "os.path.splitext(a)[1]"
   ]
  },
  {
   "cell_type": "code",
   "execution_count": 365,
   "metadata": {},
   "outputs": [
    {
     "data": {
      "text/plain": [
       "15.320536"
      ]
     },
     "execution_count": 365,
     "metadata": {},
     "output_type": "execute_result"
    }
   ],
   "source": [
    "truck.get_body_volume()"
   ]
  },
  {
   "cell_type": "code",
   "execution_count": 405,
   "metadata": {},
   "outputs": [
    {
     "name": "stdout",
     "output_type": "stream",
     "text": [
      "Empty file\n"
     ]
    }
   ],
   "source": [
    "cars = get_car_list('empty.csv')"
   ]
  },
  {
   "cell_type": "code",
   "execution_count": 367,
   "metadata": {},
   "outputs": [
    {
     "data": {
      "text/plain": [
       "4"
      ]
     },
     "execution_count": 367,
     "metadata": {},
     "output_type": "execute_result"
    }
   ],
   "source": [
    "len(cars)"
   ]
  },
  {
   "cell_type": "code",
   "execution_count": 368,
   "metadata": {},
   "outputs": [
    {
     "name": "stdout",
     "output_type": "stream",
     "text": [
      "<class '__main__.Car'>\n",
      "<class '__main__.Truck'>\n",
      "<class '__main__.Truck'>\n",
      "<class '__main__.Car'>\n"
     ]
    }
   ],
   "source": [
    "for car in cars:\n",
    "    print(type(car))"
   ]
  },
  {
   "cell_type": "code",
   "execution_count": 369,
   "metadata": {},
   "outputs": [
    {
     "data": {
      "text/plain": [
       "'4'"
      ]
     },
     "execution_count": 369,
     "metadata": {},
     "output_type": "execute_result"
    }
   ],
   "source": [
    "cars[0].passenger_seats_count"
   ]
  },
  {
   "cell_type": "code",
   "execution_count": 370,
   "metadata": {},
   "outputs": [
    {
     "data": {
      "text/plain": [
       "60.0"
      ]
     },
     "execution_count": 370,
     "metadata": {},
     "output_type": "execute_result"
    }
   ],
   "source": [
    "cars[1].get_body_volume()"
   ]
  },
  {
   "cell_type": "code",
   "execution_count": null,
   "metadata": {},
   "outputs": [],
   "source": []
  },
  {
   "cell_type": "code",
   "execution_count": null,
   "metadata": {},
   "outputs": [],
   "source": []
  }
 ],
 "metadata": {
  "kernelspec": {
   "display_name": "Python 3",
   "language": "python",
   "name": "python3"
  },
  "language_info": {
   "codemirror_mode": {
    "name": "ipython",
    "version": 3
   },
   "file_extension": ".py",
   "mimetype": "text/x-python",
   "name": "python",
   "nbconvert_exporter": "python",
   "pygments_lexer": "ipython3",
   "version": "3.8.5"
  }
 },
 "nbformat": 4,
 "nbformat_minor": 4
}
